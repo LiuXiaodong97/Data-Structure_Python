{
 "cells": [
  {
   "cell_type": "code",
   "execution_count": 73,
   "id": "479f1e79",
   "metadata": {},
   "outputs": [],
   "source": [
    "class Stack:\n",
    "    def __init__(self):\n",
    "        self.items = []\n",
    "    \n",
    "    def isEmpty(self):\n",
    "        return self.items == []\n",
    "    \n",
    "    def push(self, item):\n",
    "        self.items.append(item)\n",
    "        \n",
    "    def pop(self):\n",
    "        return self.items.pop()\n",
    "    \n",
    "    def peek(self):\n",
    "        return self.items[len(self.items)-1]\n",
    "    \n",
    "    def size(self):\n",
    "        return len(self.items)"
   ]
  },
  {
   "cell_type": "code",
   "execution_count": 74,
   "id": "ddb8616f",
   "metadata": {},
   "outputs": [
    {
     "name": "stdout",
     "output_type": "stream",
     "text": [
      "True\n",
      "dog\n"
     ]
    }
   ],
   "source": [
    "s = Stack()\n",
    "\n",
    "print(s.isEmpty())\n",
    "s.push(3)\n",
    "s.push(\"dog\")\n",
    "print(s.peek())"
   ]
  },
  {
   "cell_type": "code",
   "execution_count": 75,
   "id": "ac9a776a",
   "metadata": {},
   "outputs": [
    {
     "name": "stdout",
     "output_type": "stream",
     "text": [
      "3\n",
      "False\n",
      "8.4\n",
      "True\n"
     ]
    },
    {
     "ename": "NameError",
     "evalue": "name 'size' is not defined",
     "output_type": "error",
     "traceback": [
      "\u001b[1;31m---------------------------------------------------------------------------\u001b[0m",
      "\u001b[1;31mNameError\u001b[0m                                 Traceback (most recent call last)",
      "\u001b[1;32m<ipython-input-75-047a2aec08a6>\u001b[0m in \u001b[0;36m<module>\u001b[1;34m\u001b[0m\n\u001b[0;32m      5\u001b[0m \u001b[0mprint\u001b[0m\u001b[1;33m(\u001b[0m\u001b[0ms\u001b[0m\u001b[1;33m.\u001b[0m\u001b[0mpop\u001b[0m\u001b[1;33m(\u001b[0m\u001b[1;33m)\u001b[0m\u001b[1;33m)\u001b[0m\u001b[1;33m\u001b[0m\u001b[1;33m\u001b[0m\u001b[0m\n\u001b[0;32m      6\u001b[0m \u001b[0mprint\u001b[0m\u001b[1;33m(\u001b[0m\u001b[0ms\u001b[0m\u001b[1;33m.\u001b[0m\u001b[0mpop\u001b[0m\u001b[1;33m(\u001b[0m\u001b[1;33m)\u001b[0m\u001b[1;33m)\u001b[0m\u001b[1;33m\u001b[0m\u001b[1;33m\u001b[0m\u001b[0m\n\u001b[1;32m----> 7\u001b[1;33m \u001b[0mprint\u001b[0m\u001b[1;33m(\u001b[0m\u001b[0ms\u001b[0m\u001b[1;33m,\u001b[0m\u001b[0msize\u001b[0m\u001b[1;33m(\u001b[0m\u001b[1;33m)\u001b[0m\u001b[1;33m)\u001b[0m\u001b[1;33m\u001b[0m\u001b[1;33m\u001b[0m\u001b[0m\n\u001b[0m",
      "\u001b[1;31mNameError\u001b[0m: name 'size' is not defined"
     ]
    }
   ],
   "source": [
    "s.push(True)\n",
    "print(s.size())\n",
    "print(s.isEmpty())\n",
    "s.push(8.4)\n",
    "print(s.pop())\n",
    "print(s.pop())\n",
    "print(s,size())"
   ]
  },
  {
   "cell_type": "code",
   "execution_count": 16,
   "id": "28825400",
   "metadata": {},
   "outputs": [],
   "source": [
    "def parChecker(symbolString):\n",
    "    s = Stack()\n",
    "    balanced = True\n",
    "    index = 0\n",
    "    while index < len(symbolString) and balanced:\n",
    "        symbol = symbolString[index]\n",
    "        if symbol in \"([{\":\n",
    "            s.push(symbol)\n",
    "        else:\n",
    "            top = s.pop()\n",
    "            if not matches(top, symbol):\n",
    "                balanced = False\n",
    "        index += 1\n",
    "    if balanced and s.isEmpty():\n",
    "        return True\n",
    "    else:\n",
    "        return False\n",
    "    \n",
    "def matches(open, close):\n",
    "    opens = \"([{\"\n",
    "    closers = \")]}\"\n",
    "    return opens.index(open) == closers.index(close)"
   ]
  },
  {
   "cell_type": "code",
   "execution_count": 18,
   "id": "abf16f35",
   "metadata": {},
   "outputs": [
    {
     "name": "stdout",
     "output_type": "stream",
     "text": [
      "False\n"
     ]
    }
   ],
   "source": [
    "print(parChecker('(([(])))'))"
   ]
  },
  {
   "cell_type": "code",
   "execution_count": 21,
   "id": "fe0134b0",
   "metadata": {},
   "outputs": [],
   "source": [
    "def baseConverter(decNumber,base):\n",
    "    remstack = Stack()\n",
    "    digits = \"0123456789ABCDEF\"\n",
    "    while decNumber > 0:\n",
    "        rem = decNumber % base\n",
    "        remstack.push(rem)\n",
    "        decNumber = decNumber // base\n",
    "        \n",
    "    binString = \"\"\n",
    "    while not remstack.isEmpty():\n",
    "        binString = binString + digits[remstack.pop()]\n",
    "        \n",
    "    return binString"
   ]
  },
  {
   "cell_type": "code",
   "execution_count": 22,
   "id": "71ae54b3",
   "metadata": {},
   "outputs": [
    {
     "name": "stdout",
     "output_type": "stream",
     "text": [
      "19\n"
     ]
    }
   ],
   "source": [
    "print(baseConverter(25,16))"
   ]
  },
  {
   "cell_type": "code",
   "execution_count": 60,
   "id": "4d991ae2",
   "metadata": {},
   "outputs": [],
   "source": [
    "def infixToPosfix(infixexpr):\n",
    "    prec = {}\n",
    "    prec[\"*\"] = 3\n",
    "    prec[\"/\"] = 3\n",
    "    prec[\"+\"] = 2\n",
    "    prec[\"-\"] = 2\n",
    "    prec[\"(\"] = 1\n",
    "    opStack = Stack()\n",
    "    postfixlist = []\n",
    "    tokenlist = infixexpr.split( )\n",
    "    for token in tokenlist:\n",
    "        if token in \"ABCDEFGHIJKLMNOPQRSTUVWXYZ\" or token in \"0123456789\":\n",
    "            postfixlist.append(token)\n",
    "        elif token == '(':\n",
    "            opStack.push(token)\n",
    "        elif token == ')':\n",
    "            toptoken = opStack.pop()\n",
    "            while toptoken != '(':\n",
    "                postfixlist.append(toptoken)\n",
    "                toptoken = opStack.pop()\n",
    "        else:\n",
    "            while (not opStack.isEmpty()) and \\\n",
    "                (prec[opStack.peek()] >= prec[token]):\n",
    "                postfixlist.append(opStack.pop())\n",
    "            opStack.push(token)\n",
    "    while not opStack.isEmpty():\n",
    "        postfixlist.append(opStack.pop())\n",
    "    return ''.join(postfixlist)"
   ]
  },
  {
   "cell_type": "code",
   "execution_count": 61,
   "id": "3382c7c6",
   "metadata": {},
   "outputs": [
    {
     "name": "stdout",
     "output_type": "stream",
     "text": [
      "AB*CD*+\n"
     ]
    }
   ],
   "source": [
    "print(infixToPosfix(\"A * B + C * D\"))"
   ]
  },
  {
   "cell_type": "code",
   "execution_count": 57,
   "id": "23c2de23",
   "metadata": {},
   "outputs": [],
   "source": [
    "def postfixEval(postfixExpr):\n",
    "    operandStack = Stack()\n",
    "    tokenlist = postfixExpr.split( )\n",
    "    for token in tokenlist:\n",
    "        if token in \"0123456789\":\n",
    "            operandStack.push(int(token))\n",
    "        else:\n",
    "            operand2 = operandStack.pop()\n",
    "            operand1 = operandStack.pop()\n",
    "            result = doMath(token, operand1, operand2)\n",
    "            operandStack.push(result)\n",
    "    return operandStack.pop()\n",
    "\n",
    "def doMath(op, op1,op2):\n",
    "    if op == \"*\":\n",
    "        return op1 * op2\n",
    "    elif op == \"/\":\n",
    "        return op1 / op2\n",
    "    elif op == \"+\":\n",
    "        return op1 + op2\n",
    "    else:\n",
    "        return op1 - op2"
   ]
  },
  {
   "cell_type": "code",
   "execution_count": 59,
   "id": "582a18dd",
   "metadata": {},
   "outputs": [
    {
     "name": "stdout",
     "output_type": "stream",
     "text": [
      "7\n"
     ]
    }
   ],
   "source": [
    "print(postfixEval(\"3 4 * 5 -\"))"
   ]
  },
  {
   "cell_type": "code",
   "execution_count": 144,
   "id": "ebf885f1",
   "metadata": {},
   "outputs": [],
   "source": [
    "def xiaoxiaole(postfixExpr):\n",
    "    operandStack = Stack()\n",
    "    tokenlist = postfixExpr.split()\n",
    "    for token in tokenlist:\n",
    "        if operandStack.isEmpty():\n",
    "            operandStack.push(token)\n",
    "        else:\n",
    "            toptoken = operandStack.peek()\n",
    "            if token is toptoken:\n",
    "                tokenlist[tokenlist.index(token)] = \"\"\n",
    "                tokenlist[tokenlist.index(token)] = \"\"\n",
    "                operandStack.pop()\n",
    "            else:\n",
    "                operandStack.push(token)\n",
    "    if operandStack.isEmpty():\n",
    "        #return \"None\"\n",
    "        return tokenlist == []\n",
    "    else:\n",
    "        return ''.join(tokenlist)"
   ]
  },
  {
   "cell_type": "code",
   "execution_count": 145,
   "id": "2ddf40f8",
   "metadata": {},
   "outputs": [
    {
     "name": "stdout",
     "output_type": "stream",
     "text": [
      "False\n"
     ]
    }
   ],
   "source": [
    "print(xiaoxiaole(\"a b b a c d d c c c 0 0\"))"
   ]
  },
  {
   "cell_type": "code",
   "execution_count": null,
   "id": "c9d6f0d8",
   "metadata": {},
   "outputs": [],
   "source": []
  }
 ],
 "metadata": {
  "kernelspec": {
   "display_name": "Python 3",
   "language": "python",
   "name": "python3"
  },
  "language_info": {
   "codemirror_mode": {
    "name": "ipython",
    "version": 3
   },
   "file_extension": ".py",
   "mimetype": "text/x-python",
   "name": "python",
   "nbconvert_exporter": "python",
   "pygments_lexer": "ipython3",
   "version": "3.8.8"
  }
 },
 "nbformat": 4,
 "nbformat_minor": 5
}
