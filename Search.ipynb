{
 "cells": [
  {
   "cell_type": "code",
   "execution_count": 1,
   "id": "4f48e4d1",
   "metadata": {},
   "outputs": [
    {
     "name": "stdout",
     "output_type": "stream",
     "text": [
      "False\n",
      "True\n"
     ]
    }
   ],
   "source": [
    "#二分法查找\n",
    "def binarySearch(alist,item):\n",
    "    first = 0\n",
    "    last = len(alist) - 1\n",
    "    found = False\n",
    "    \n",
    "    while first <= last and not found:\n",
    "        midpoint = (first+last)//2\n",
    "        if alist[midpoint] == item:\n",
    "            found = True\n",
    "        else:\n",
    "            if item < alist[midpoint]:\n",
    "                last = midpoint - 1\n",
    "            else:\n",
    "                first = midpoint + 1\n",
    "    return found\n",
    "\n",
    "testlist = [0,1,2,8,13,17,19,32,42]\n",
    "print(binarySearch(testlist,3))\n",
    "print(binarySearch(testlist,13))"
   ]
  },
  {
   "cell_type": "code",
   "execution_count": 2,
   "id": "0514aa68",
   "metadata": {},
   "outputs": [],
   "source": [
    "#二分法查找递归\n",
    "def binarySearch(alist,item):\n",
    "    if len(alist) == 0:\n",
    "        return False\n",
    "    else:\n",
    "        midpoint = len(alist)//2\n",
    "        if alist[midpoint] == item:\n",
    "            return T\n",
    "        else:\n",
    "            if item < alist[midpoint]:\n",
    "                return binarySearch(alist[:midpoint],item)\n",
    "            else:\n",
    "                return binarySearch(alist[midpoint:],item)"
   ]
  },
  {
   "cell_type": "code",
   "execution_count": 4,
   "id": "5e43ce23",
   "metadata": {},
   "outputs": [
    {
     "name": "stdout",
     "output_type": "stream",
     "text": [
      "[17, 20, 26, 31, 44, 54, 55, 77, 93]\n"
     ]
    }
   ],
   "source": [
    "#冒泡排序\n",
    "def bubbleSort(alist):\n",
    "    for passnum in range(len(alist)-1,0,-1):\n",
    "        for i in range(passnum):\n",
    "            if alist[i] > alist[i+1]:\n",
    "                alist[i],alist[i+1] = alist[i+1],alist[i]\n",
    "                \n",
    "alist = [54,26,93,17,77,31,44,55,20]\n",
    "bubbleSort(alist)\n",
    "print(alist)"
   ]
  },
  {
   "cell_type": "code",
   "execution_count": 6,
   "id": "c47fa2fb",
   "metadata": {},
   "outputs": [
    {
     "name": "stdout",
     "output_type": "stream",
     "text": [
      "[17, 20, 26, 31, 44, 54, 55, 77, 93]\n"
     ]
    }
   ],
   "source": [
    "#选择排序\n",
    "def selectionSort(alist):\n",
    "    for fillslot in range(len(alist)-1,0,-1):\n",
    "        positionOfMax = 0\n",
    "        for location in range(1,fillslot+1):\n",
    "            if alist[location]>alist[positionOfMax]:\n",
    "                positionOfMax = location\n",
    "                \n",
    "        temp = alist[fillslot]\n",
    "        alist[fillslot] = alist[positionOfMax]\n",
    "        alist[positionOfMax] = temp \n",
    "\n",
    "alist = [54,26,93,17,77,31,44,55,20]\n",
    "selectionSort(alist)\n",
    "print(alist)"
   ]
  },
  {
   "cell_type": "code",
   "execution_count": 9,
   "id": "db922153",
   "metadata": {},
   "outputs": [
    {
     "name": "stdout",
     "output_type": "stream",
     "text": [
      "[17, 20, 26, 31, 44, 54, 55, 77, 93]\n"
     ]
    }
   ],
   "source": [
    "def insertionSort(alist):\n",
    "    for index in range(1,len(alist)):\n",
    "        currentvalue = alist[index]\n",
    "        position = index\n",
    "    \n",
    "        while position > 0 and alist[position-1]>currentvalue:\n",
    "            alist[position] = alist[position-1]\n",
    "            position = position-1\n",
    "        \n",
    "        alist[position]=currentvalue\n",
    "\n",
    "alist = [54,26,93,17,77,31,44,55,20]\n",
    "insertionSort(alist)\n",
    "print(alist)"
   ]
  },
  {
   "cell_type": "code",
   "execution_count": 11,
   "id": "9a2d87fe",
   "metadata": {},
   "outputs": [
    {
     "name": "stdout",
     "output_type": "stream",
     "text": [
      "After increments of size 4 The list is [20, 26, 44, 17, 54, 31, 93, 55, 77]\n",
      "After increments of size 2 The list is [20, 17, 44, 26, 54, 31, 77, 55, 93]\n",
      "After increments of size 1 The list is [17, 20, 26, 31, 44, 54, 55, 77, 93]\n",
      "[17, 20, 26, 31, 44, 54, 55, 77, 93]\n"
     ]
    }
   ],
   "source": [
    "#谢尔排序\n",
    "def shellSort(alist):\n",
    "    sublistcount = len(alist)//2\n",
    "    while sublistcount > 0:\n",
    "        for startposition in range(sublistcount):\n",
    "            gapInsertionSort(alist,startposition,sublistcount)\n",
    "        print(\"After increments of size\",sublistcount,\"The list is\",alist)\n",
    "        sublistcount = sublistcount//2\n",
    "        \n",
    "def gapInsertionSort(alist,start,gap):\n",
    "    for i in range(start+gap,len(alist),gap):\n",
    "        currentvalue = alist[i]\n",
    "        position = i\n",
    "        while position >=gap and alist[position-gap] > currentvalue:\n",
    "            alist[position] = alist[position-gap]\n",
    "            position = position - gap\n",
    "            \n",
    "        alist[position] = currentvalue\n",
    "\n",
    "alist = [54,26,93,17,77,31,44,55,20]\n",
    "shellSort(alist)\n",
    "print(alist)"
   ]
  },
  {
   "cell_type": "code",
   "execution_count": 16,
   "id": "3a77f693",
   "metadata": {},
   "outputs": [
    {
     "name": "stdout",
     "output_type": "stream",
     "text": [
      "[17, 20, 26, 31, 44, 54, 55, 77, 93]\n"
     ]
    }
   ],
   "source": [
    "#归并排序\n",
    "def mergeSort(lst):\n",
    "    if len(lst) <= 1:\n",
    "        return lst\n",
    "    middle = len(lst)//2\n",
    "    left = mergeSort(lst[:middle])\n",
    "    right = mergeSort(lst[middle:])\n",
    "    \n",
    "    merged = []\n",
    "    while left and right:\n",
    "        if left[0] <= right[0]:\n",
    "            merged.append(left.pop(0))\n",
    "        else:\n",
    "            merged.append(right.pop(0))\n",
    "    merged.extend(right if right else left)\n",
    "    return merged\n",
    "\n",
    "alist = [54,26,93,17,77,31,44,55,20]\n",
    "print(mergeSort(alist))"
   ]
  },
  {
   "cell_type": "code",
   "execution_count": 20,
   "id": "f4c983ae",
   "metadata": {},
   "outputs": [
    {
     "name": "stdout",
     "output_type": "stream",
     "text": [
      "[17, 20, 26, 31, 44, 54, 55, 77, 93]\n"
     ]
    }
   ],
   "source": [
    "#快速排序\n",
    "def quickSort(alist):\n",
    "    quickSortHelper(alist,0,len(alist)-1)\n",
    "\n",
    "def quickSortHelper(alist,first,last):\n",
    "    if first < last:\n",
    "        splitpoint = partition(alist,first,last)\n",
    "        quickSortHelper(alist,first,splitpoint-1)\n",
    "        quickSortHelper(alist,splitpoint+1,last)\n",
    "\n",
    "def partition(alist,first,last):\n",
    "    pivotvalue = alist[first]\n",
    "    leftmark = first+1\n",
    "    rightmark = last\n",
    "    \n",
    "    done = False\n",
    "    while not done:\n",
    "        while leftmark <= rightmark and alist[leftmark] <= pivotvalue:\n",
    "            leftmark = leftmark + 1\n",
    "        while alist[rightmark] >= pivotvalue and rightmark >= leftmark:\n",
    "            rightmark = rightmark - 1\n",
    "        if rightmark < leftmark:\n",
    "            done = True\n",
    "        else:\n",
    "            temp = alist[leftmark]\n",
    "            alist[leftmark] = alist[rightmark]\n",
    "            alist[rightmark] = temp\n",
    "    temp = alist[first]\n",
    "    alist[first] = alist[rightmark]\n",
    "    alist[rightmark] = temp\n",
    "    \n",
    "    return rightmark\n",
    "\n",
    "alist = [54,26,93,17,77,31,44,55,20]\n",
    "quickSort(alist)\n",
    "print(alist)"
   ]
  },
  {
   "cell_type": "code",
   "execution_count": 23,
   "id": "98f7ca16",
   "metadata": {},
   "outputs": [
    {
     "name": "stdout",
     "output_type": "stream",
     "text": [
      "3\n",
      "1 4 5\n"
     ]
    }
   ],
   "source": [
    "def sortMain(expr):\n",
    "    l = list(map(int,expr.split()))\n",
    "    length = len(l)\n",
    "    ll = []\n",
    "    if len(l) == 1:\n",
    "        print(1)\n",
    "        print(l[0])\n",
    "    else:\n",
    "        for i in range(1,length-1):\n",
    "            if l[i] > max(l[:i]) and l[i] < min(l[i+1:]):\n",
    "                ll.append(l[i])\n",
    "        if l[0] < l[1]:\n",
    "            ll.append(l[0])\n",
    "        if l[-1] > l[-2]:\n",
    "            ll.append(l[-1])\n",
    "        ll.sort()\n",
    "        print(len(ll))\n",
    "        print(' '.join([str(i) for i in ll]))\n",
    "\n",
    "sortMain(\"1 3 2 4 5\")"
   ]
  },
  {
   "cell_type": "code",
   "execution_count": 24,
   "id": "156b3be8",
   "metadata": {},
   "outputs": [
    {
     "name": "stdout",
     "output_type": "stream",
     "text": [
      "50\n",
      "lambda n:n>=30\n",
      "30\n"
     ]
    }
   ],
   "source": [
    "N = int(input())\n",
    "isBadVersion = eval(input())\n",
    "\n",
    "def firstBadVersion(n):\n",
    "    left = 1\n",
    "    right = n\n",
    "    while(left<right):\n",
    "        mid = left + (right-left)//2\n",
    "        if (isBadVersion(mid)):\n",
    "            right = mid\n",
    "        else:\n",
    "            left = mid + 1\n",
    "    return left\n",
    "\n",
    "print(firstBadVersion(N))"
   ]
  },
  {
   "cell_type": "code",
   "execution_count": 1,
   "id": "967ea912",
   "metadata": {},
   "outputs": [
    {
     "name": "stdout",
     "output_type": "stream",
     "text": [
      "3 1 2 8 7 5 9 4 6 0\n",
      "1 2 3 7 8 5 9 4 6 0\n",
      "5\n",
      "Insertion Sort\n",
      "1 2 3 7 8 5 9 4 6 0\n"
     ]
    }
   ],
   "source": [
    "def check(lst1,lst2):\n",
    "    flag = 0\n",
    "    for i in range(len(lst2)-1):\n",
    "        if lst2[i] > lst2[i+1]:\n",
    "            flag = i+1\n",
    "            break\n",
    "    print(flag)\n",
    "    if lst1[flag:] == lst2[flag:]:\n",
    "        result = sorted(lst1[:flag+1]) + lst2[flag+1:]\n",
    "        return True,result\n",
    "    else:\n",
    "        cnt = 2\n",
    "        result = lst2\n",
    "        while result == lst2:\n",
    "            sub_lst = [sorted(lst2[i:i+cnt]) for i in range(0,len(lst2),cnt)]\n",
    "            result = [num for sub in sub_lst for num in sub]\n",
    "            cnt *= 2\n",
    "        return False,result\n",
    "    \n",
    "lst1 = [int(i) for i in input().split()]\n",
    "lst2 = [int(i) for i in input().split()]\n",
    "num = len(lst1)\n",
    "flag, nextList = check(lst1,lst2)\n",
    "if flag:\n",
    "    print(\"Insertion Sort\")\n",
    "else:\n",
    "    print(\"Merge Sort\")\n",
    "    \n",
    "print(\" \".join([str(i) for i in nextList]))"
   ]
  },
  {
   "cell_type": "code",
   "execution_count": null,
   "id": "f485c170",
   "metadata": {},
   "outputs": [],
   "source": [
    "sub_lst = [[0, 6],[1, 3],[2, 8],[4, 9],[5, 7]]\n",
    "result = [num for sub in sub_lst for num in sub]\n",
    "print(result)"
   ]
  },
  {
   "cell_type": "code",
   "execution_count": 3,
   "id": "f4ad5455",
   "metadata": {},
   "outputs": [
    {
     "data": {
      "text/plain": [
       "[1, 2, 3, 7, 8]"
      ]
     },
     "execution_count": 3,
     "metadata": {},
     "output_type": "execute_result"
    }
   ],
   "source": [
    "lst = [1,2,3,7,8,5]\n",
    "sorted(lst[:5])\n",
    "lst[:5]"
   ]
  },
  {
   "cell_type": "code",
   "execution_count": 4,
   "id": "8218a166",
   "metadata": {},
   "outputs": [],
   "source": [
    "# ADT map\n",
    "class hashTable:\n",
    "    def __init__(self):\n",
    "        self.size = 11\n",
    "        self.slots = [None] * self.size\n",
    "        self.data = [None] * self.size\n",
    "    def hashfunction(self,key):\n",
    "        return key% self.size\n",
    "    def rehash(self,oldhash):\n",
    "        return (oldhash + 1)% self.size\n",
    "    def put(self,key,data):\n",
    "        hashvalue = self.hashfunction(key)\n",
    "        if self.slots[hashvalue] == None:\n",
    "            self.slots[hashvalue] = key\n",
    "            self.data[hashvalue] = data\n",
    "        else:\n",
    "            if self.slots[hashvalue] == key:\n",
    "                self.data[hashvalue] = data\n",
    "            else:\n",
    "                nextslot = self.rehash(hashvalue)\n",
    "                while self.slots[nextslot] != None and self.slots[nextslot] != key:\n",
    "                    nextslot = self.rehash(nextslot)\n",
    "                if self.slots[nextslot] == None:\n",
    "                    self.slots[nextslot] = key\n",
    "                    self.data[nextslot] = data\n",
    "                else:\n",
    "                    self.data[nextslot] = data"
   ]
  },
  {
   "cell_type": "code",
   "execution_count": 8,
   "id": "78f6fdfc",
   "metadata": {},
   "outputs": [
    {
     "name": "stdout",
     "output_type": "stream",
     "text": [
      "[None, None, None, None, 26, None, None, None, None, None, 54]\n",
      "[None, None, None, None, 'dog', None, None, None, None, None, 'cat']\n"
     ]
    },
    {
     "ename": "TypeError",
     "evalue": "'hashTable' object is not subscriptable",
     "output_type": "error",
     "traceback": [
      "\u001b[1;31m---------------------------------------------------------------------------\u001b[0m",
      "\u001b[1;31mTypeError\u001b[0m                                 Traceback (most recent call last)",
      "\u001b[1;32m<ipython-input-8-113ba9220cd5>\u001b[0m in \u001b[0;36m<module>\u001b[1;34m\u001b[0m\n\u001b[0;32m      4\u001b[0m \u001b[0mprint\u001b[0m\u001b[1;33m(\u001b[0m\u001b[0mH\u001b[0m\u001b[1;33m.\u001b[0m\u001b[0mslots\u001b[0m\u001b[1;33m)\u001b[0m\u001b[1;33m\u001b[0m\u001b[1;33m\u001b[0m\u001b[0m\n\u001b[0;32m      5\u001b[0m \u001b[0mprint\u001b[0m\u001b[1;33m(\u001b[0m\u001b[0mH\u001b[0m\u001b[1;33m.\u001b[0m\u001b[0mdata\u001b[0m\u001b[1;33m)\u001b[0m\u001b[1;33m\u001b[0m\u001b[1;33m\u001b[0m\u001b[0m\n\u001b[1;32m----> 6\u001b[1;33m \u001b[0mprint\u001b[0m\u001b[1;33m(\u001b[0m\u001b[0mH\u001b[0m\u001b[1;33m[\u001b[0m\u001b[1;36m26\u001b[0m\u001b[1;33m]\u001b[0m\u001b[1;33m)\u001b[0m\u001b[1;33m\u001b[0m\u001b[1;33m\u001b[0m\u001b[0m\n\u001b[0m",
      "\u001b[1;31mTypeError\u001b[0m: 'hashTable' object is not subscriptable"
     ]
    }
   ],
   "source": [
    "H = hashTable()\n",
    "H.put(54,\"cat\")\n",
    "H.put(26,\"dog\")\n",
    "print(H.slots)\n",
    "print(H.data)"
   ]
  },
  {
   "cell_type": "code",
   "execution_count": 3,
   "id": "5253db91",
   "metadata": {},
   "outputs": [
    {
     "name": "stdout",
     "output_type": "stream",
     "text": [
      "cbaebabacd\n",
      "abc\n",
      "[0, 6]\n"
     ]
    }
   ],
   "source": [
    "def findAnagrams(s,p):\n",
    "    results = []\n",
    "    i = 0\n",
    "    while i <= len(s) - len(p):\n",
    "        pp = list(p)\n",
    "        for x in s[i: i+len(p)]:\n",
    "            if x in pp:\n",
    "                pp.remove(x)\n",
    "            else:\n",
    "                break\n",
    "        else:\n",
    "            if not pp:\n",
    "                results.append(i)\n",
    "        i += 1\n",
    "    if results:\n",
    "        print(*results)\n",
    "    else:\n",
    "        print(\"None\")\n",
    "s = input()\n",
    "p = input()\n",
    "findAnagrams(s,p)"
   ]
  },
  {
   "cell_type": "code",
   "execution_count": 5,
   "id": "b2d32c46",
   "metadata": {},
   "outputs": [
    {
     "name": "stdout",
     "output_type": "stream",
     "text": [
      "[1,1,1,2,2,3]\n",
      "2\n",
      "{1: 3, 2: 2, 3: 1}\n",
      "[(1, 3), (2, 2), (3, 1)]\n",
      "1 2\n"
     ]
    }
   ],
   "source": [
    "def topKFrequent(nums,k):\n",
    "    dct = {}\n",
    "    for x in nums:\n",
    "        dct[x] = dct.get(x,0) +1\n",
    "    print(dct)\n",
    "    result = sorted(dct.items(), key = lambda x: (-x[1],x[0]))\n",
    "    print(result)\n",
    "    result = [x[0] for x in result[:k]]\n",
    "    print(*result)\n",
    "    \n",
    "lst = eval(input())\n",
    "k = int(input())\n",
    "topKFrequent(lst,k)"
   ]
  },
  {
   "cell_type": "code",
   "execution_count": null,
   "id": "9488a22b",
   "metadata": {},
   "outputs": [],
   "source": []
  }
 ],
 "metadata": {
  "kernelspec": {
   "display_name": "Python 3",
   "language": "python",
   "name": "python3"
  },
  "language_info": {
   "codemirror_mode": {
    "name": "ipython",
    "version": 3
   },
   "file_extension": ".py",
   "mimetype": "text/x-python",
   "name": "python",
   "nbconvert_exporter": "python",
   "pygments_lexer": "ipython3",
   "version": "3.8.8"
  }
 },
 "nbformat": 4,
 "nbformat_minor": 5
}
