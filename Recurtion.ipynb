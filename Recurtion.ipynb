{
 "cells": [
  {
   "cell_type": "code",
   "execution_count": 3,
   "id": "e1269dc5",
   "metadata": {},
   "outputs": [],
   "source": [
    "# 整数转为任意进制\n",
    "def toStr(n,base):\n",
    "    convertString = \"0123456789ABCDEF\"\n",
    "    if n < base:\n",
    "        return convertString[n]\n",
    "    else:\n",
    "        return toStr(n//base,base) + convertString[n%base]"
   ]
  },
  {
   "cell_type": "code",
   "execution_count": 4,
   "id": "f0d1f0c7",
   "metadata": {},
   "outputs": [
    {
     "name": "stdout",
     "output_type": "stream",
     "text": [
      "5AD\n"
     ]
    }
   ],
   "source": [
    "print(toStr(1453,16))"
   ]
  },
  {
   "cell_type": "code",
   "execution_count": 5,
   "id": "d472dcc1",
   "metadata": {},
   "outputs": [
    {
     "data": {
      "text/plain": [
       "3000"
      ]
     },
     "execution_count": 5,
     "metadata": {},
     "output_type": "execute_result"
    }
   ],
   "source": [
    "import sys\n",
    "#获取栈帧限制及设置\n",
    "sys.getrecursionlimit()\n",
    "#"
   ]
  },
  {
   "cell_type": "code",
   "execution_count": 6,
   "id": "5a315e91",
   "metadata": {},
   "outputs": [],
   "source": [
    "import turtle\n",
    "t = turtle.Turtle()\n",
    "def drawSpiral(t, lineLen):\n",
    "    if lineLen > 0:\n",
    "        t.forward(lineLen)\n",
    "        t.right(90)\n",
    "        drawSpiral(t,lineLen - 5)\n",
    "\n",
    "drawSpiral(t,100)\n",
    "turtle.done()"
   ]
  },
  {
   "cell_type": "code",
   "execution_count": 1,
   "id": "e4991286",
   "metadata": {},
   "outputs": [],
   "source": [
    "# 绘制分形树\n",
    "import turtle\n",
    "\n",
    "def tree(t,branch_len):\n",
    "    if branch_len > 5:\n",
    "        t.forward(branch_len)\n",
    "        t.right(20)\n",
    "        tree(t,branch_len-15)\n",
    "        t.left(40)\n",
    "        tree(t,branch_len-15)\n",
    "        t.right(20)\n",
    "        t.backward(branch_len)\n",
    "        \n",
    "t = turtle.Turtle()\n",
    "t.left(90)\n",
    "t.penup()\n",
    "t.backward(100)\n",
    "t.pendown()\n",
    "t.pencolor('green')\n",
    "t.pensize(2)\n",
    "tree(t,75)\n",
    "t.hideturtle()\n",
    "turtle.done()"
   ]
  },
  {
   "cell_type": "code",
   "execution_count": 1,
   "id": "f3ea1156",
   "metadata": {},
   "outputs": [],
   "source": [
    "# 绘制谢尔宾斯基三角形\n",
    "import turtle\n",
    "\n",
    "def sierpinski(degree, points):\n",
    "    colormap = ['blue','red','green','white','yellow','orange']\n",
    "    drawTriangle(points,colormap[degree])\n",
    "    if degree > 0:\n",
    "        sierpinski(degree-1,\\\n",
    "                  {'left':points['left'],\\\n",
    "                  'top':getMid(points['left'],points['top']),\\\n",
    "                  'right':getMid(points['left'],points['right'])})\n",
    "        sierpinski(degree-1,\\\n",
    "                  {'left':getMid(points['left'],points['top']),\\\n",
    "                  'top':points['top'],\\\n",
    "                  'right':getMid(points['top'],points['right'])})\n",
    "        sierpinski(degree-1,\\\n",
    "                  {'left':getMid(points['left'],points['right']),\\\n",
    "                  'top':getMid(points['top'],points['right']),\\\n",
    "                  'right':points['right']})\n",
    "        \n",
    "def drawTriangle(points,color):\n",
    "    t.fillcolor(color)\n",
    "    t.penup()\n",
    "    t.goto(points['top'])\n",
    "    t.pendown()\n",
    "    t.begin_fill()\n",
    "    t.goto(points['left'])\n",
    "    t.goto(points['right'])\n",
    "    t.goto(points['top'])\n",
    "    t.end_fill()\n",
    "    \n",
    "def getMid(p1,p2):\n",
    "    return((p1[0]+p2[0])/2,(p1[1]+p2[1])/2)\n",
    "\n",
    "t = turtle.Turtle()\n",
    "\n",
    "points = {'left':(-200,-100),\\\n",
    "          'top':(0,200),\\\n",
    "          'right':(200,-100)}\n",
    "\n",
    "sierpinski(5,points)\n",
    "\n",
    "turtle.done()"
   ]
  },
  {
   "cell_type": "code",
   "execution_count": null,
   "id": "1a42ab07",
   "metadata": {},
   "outputs": [],
   "source": []
  },
  {
   "cell_type": "code",
   "execution_count": 3,
   "id": "899c1764",
   "metadata": {},
   "outputs": [
    {
     "name": "stdout",
     "output_type": "stream",
     "text": [
      "8 16\n",
      "473\n",
      "13B\n"
     ]
    }
   ],
   "source": [
    "# 整数转为任意进制\n",
    "def toStr(n,base):\n",
    "    convertString = \"0123456789ABCDEFGHIGKLMNOPQRSTUVWXYZ\"\n",
    "    if n < base:\n",
    "        return convertString[n]\n",
    "    else:\n",
    "        return toStr(n//base,base) + convertString[n%base]\n",
    "    \n",
    "def toTens(n,M):\n",
    "    nTens = int(n,base=M)\n",
    "    return nTens\n",
    "\n",
    "M,N = map(int,input().split(\" \"))\n",
    "num = input()\n",
    "numTens = toTens(num,M)\n",
    "print(toStr(numTens,N))"
   ]
  },
  {
   "cell_type": "code",
   "execution_count": 7,
   "id": "163fe46b",
   "metadata": {},
   "outputs": [
    {
     "name": "stdout",
     "output_type": "stream",
     "text": [
      "7\n",
      "25\n"
     ]
    }
   ],
   "source": [
    "# 4柱汉诺塔问题\n",
    "def move4(height,a,b,c,d):\n",
    "    if step[height] != None:\n",
    "        return step[height]\n",
    "    else:\n",
    "        min = 10000000\n",
    "        for k in range(1,height):\n",
    "            count = 0\n",
    "            count += move4(height-k, a,b,d,c)\n",
    "            count += pow(2,k) - 1\n",
    "            count += move4(height-k,c,a,b,d)\n",
    "            if count < min:\n",
    "                min = count\n",
    "        step[height] = min\n",
    "        return min\n",
    "    \n",
    "height = int(input())\n",
    "step = [0,1,3,5]\n",
    "step.extend([None]*(height-3))\n",
    "print(move4(height,'a','b','c','d'))"
   ]
  },
  {
   "cell_type": "code",
   "execution_count": 11,
   "id": "683e8e46",
   "metadata": {},
   "outputs": [
    {
     "name": "stdout",
     "output_type": "stream",
     "text": [
      "9\n",
      "[]\n",
      "[][][][][][][][][]\n",
      "[]  [][]  [][]  []\n",
      "[][][][][][][][][]\n",
      "[][][]      [][][]\n",
      "[]  []      []  []\n",
      "[][][]      [][][]\n",
      "[][][][][][][][][]\n",
      "[]  [][]  [][]  []\n",
      "[][][][][][][][][]\n"
     ]
    }
   ],
   "source": [
    "#谢尔宾斯基地毯\n",
    "def weave(n,whole):\n",
    "    for line in whole:\n",
    "        print(''.join(line))\n",
    "    return\n",
    "\n",
    "def carpet(N,array,startR,startC):\n",
    "    if N == 3:\n",
    "        array[startR + 1][startC + 1]=' '*len(c)\n",
    "        return\n",
    "    else:\n",
    "        for row in range(N//3,2*N//3):\n",
    "            for col in range(N//3,2*N//3):\n",
    "                array[row+startR][col+startC]=' '*len(c)\n",
    "        for row in range(3):\n",
    "            for col in range(3):\n",
    "                if [row,col] != [1,1]:\n",
    "                    carpet(N//3,array,startR+row*N//3,startC+col*N//3)\n",
    "                    \n",
    "n = int(input())\n",
    "c = input()\n",
    "whole = [[c]*n for i in range(n)]\n",
    "carpet(n,whole,0,0)\n",
    "weave(n,whole)"
   ]
  },
  {
   "cell_type": "code",
   "execution_count": 15,
   "id": "acb67433",
   "metadata": {},
   "outputs": [
    {
     "name": "stdout",
     "output_type": "stream",
     "text": [
      "6\n"
     ]
    }
   ],
   "source": [
    "# 找零兑换问题\n",
    "def recMC(coinValueList,change):\n",
    "    minCoins = change\n",
    "    if change in coinValueList:\n",
    "        return 1\n",
    "    else:\n",
    "        for i in [c for c in coinValueList if c <= change]:\n",
    "            numCoins = 1 + recMC(coinValueList, change-i)\n",
    "            if numCoins < minCoins:\n",
    "                minCoins = numCoins\n",
    "    return minCoins\n",
    "\n",
    "print(recMC([1,5,10,25],63))\n"
   ]
  },
  {
   "cell_type": "code",
   "execution_count": 16,
   "id": "02a77e6c",
   "metadata": {},
   "outputs": [
    {
     "name": "stdout",
     "output_type": "stream",
     "text": [
      "6\n"
     ]
    }
   ],
   "source": [
    "# 找零兑换问题优化 递归算法去除重复运算\n",
    "def recDC(coinValueList,change,knownResults):\n",
    "    minCoins = change\n",
    "    if change in coinValueList:\n",
    "        knownResults[change] = 1\n",
    "        return 1\n",
    "    elif knownResults[change] > 0:\n",
    "        return knownResults[change]\n",
    "    else:\n",
    "        for i in [c for c in coinValueList if c <= change]:\n",
    "            numCoins = 1 + recDC(coinValueList, change - i, knownResults)\n",
    "            if numCoins < minCoins:\n",
    "                minCoins = numCoins\n",
    "                knownResults[change] = minCoins\n",
    "    return minCoins\n",
    "\n",
    "print(recDC([1,5,10,25],63,[0]*64))"
   ]
  },
  {
   "cell_type": "code",
   "execution_count": 23,
   "id": "27975dd3",
   "metadata": {},
   "outputs": [
    {
     "name": "stdout",
     "output_type": "stream",
     "text": [
      "3\n"
     ]
    }
   ],
   "source": [
    "# 找零兑换问题优化 动态规划解法\n",
    "def dpMakeChange(coinValueList,change,minCoins):\n",
    "    for cents in range(1,change+1):\n",
    "        coinCount = cents\n",
    "        for j in [c for c in coinValueList if c <= cents]:\n",
    "            if minCoins[cents-j]+1 < coinCount:\n",
    "                coinCount = minCoins[cents-j] + 1\n",
    "        minCoins[cents] = coinCount\n",
    "    return minCoins[change]\n",
    "\n",
    "print(dpMakeChange([1,5,10,21,25],63,[0]*64))"
   ]
  },
  {
   "cell_type": "code",
   "execution_count": 26,
   "id": "270c155e",
   "metadata": {},
   "outputs": [
    {
     "name": "stdout",
     "output_type": "stream",
     "text": [
      "29\n"
     ]
    }
   ],
   "source": [
    "# 博物馆大盗 动态规划求解\n",
    "tr = [None,{'w':2,'v':3},{'w':3,'v':4},{'w':4,'v':8},{'w':5,'v':8},{'w':9,'v':10}]\n",
    "max_w = 20\n",
    "m = {(i,w):0 for i in range(len(tr)) for w in range(max_w+1)}\n",
    "for i in range(1,len(tr)):\n",
    "    for w in range(1,max_w+1):\n",
    "        if tr[i]['w'] > w:\n",
    "            m[(i,w)] = m[(i-1,w)]\n",
    "        else:\n",
    "            m[(i,w)] = max(m[(i-1,w)],m[i-1,w-tr[i]['w']]+tr[i]['v'])\n",
    "            \n",
    "print(m[len(tr)-1,max_w])"
   ]
  },
  {
   "cell_type": "code",
   "execution_count": 27,
   "id": "c727c863",
   "metadata": {},
   "outputs": [
    {
     "name": "stdout",
     "output_type": "stream",
     "text": [
      "29\n"
     ]
    }
   ],
   "source": [
    "# 博物馆大盗 递归求解\n",
    "tr = {(2,3),(3,4),(4,8),(5,8),(9,10)}\n",
    "max_w = 20\n",
    "m = {}\n",
    "def thief(tr,w):\n",
    "    if tr == set() or w == 0:\n",
    "        m[(tuple(tr),w)] = 0\n",
    "        return 0\n",
    "    elif (tuple(tr),w) in m:\n",
    "        return m[(tuple(tr),w)]\n",
    "    else:\n",
    "        vmax = 0\n",
    "        for t in tr:\n",
    "            if t[0] <= w:\n",
    "                v = thief(tr-{t},w-t[0]) + t[1]\n",
    "                vmax = max(vmax,v)\n",
    "        m[(tuple(tr),w)] = vmax\n",
    "        return vmax\n",
    "    \n",
    "print(thief(tr,max_w))"
   ]
  },
  {
   "cell_type": "code",
   "execution_count": 32,
   "id": "7b7a3448",
   "metadata": {},
   "outputs": [
    {
     "name": "stdout",
     "output_type": "stream",
     "text": [
      "15\n"
     ]
    }
   ],
   "source": [
    "#铺瓷砖问题\n",
    "def tile(L,knowResults):\n",
    "    if L <= 1:\n",
    "        return 1\n",
    "    elif knowResults[L] > 0:\n",
    "        return knowResults[L]\n",
    "    else:\n",
    "        count = 0\n",
    "        for i in [l for l in range(1,5) if l <= L]:\n",
    "            count += tile(L-i,knowResults)\n",
    "        knowResults[L] = count\n",
    "        return count\n",
    "        \n",
    "print(tile(5,[0]*6))"
   ]
  },
  {
   "cell_type": "code",
   "execution_count": 35,
   "id": "f4fc3a3b",
   "metadata": {},
   "outputs": [
    {
     "name": "stdout",
     "output_type": "stream",
     "text": [
      "4\n"
     ]
    }
   ],
   "source": [
    "def distribution(score):\n",
    "    NumChild = len(score)\n",
    "    disList = [1] * NumChild\n",
    "    for i in range(NumChild-1):\n",
    "        if score[i] < score[i+1]:\n",
    "            disList[i+1] = disList[i] + 1\n",
    "    for i in range(NumChild-1,0,-1):\n",
    "        if (score[i] < score[i-1]) and (disList[i] <= disList[i-1]):\n",
    "            disList[i-1] = disList[i]+1\n",
    "    \n",
    "    total = sum(disList)\n",
    "    return total\n",
    "\n",
    "print(distribution([1,2,2]))"
   ]
  },
  {
   "cell_type": "code",
   "execution_count": 50,
   "id": "9ad492aa",
   "metadata": {},
   "outputs": [
    {
     "name": "stdout",
     "output_type": "stream",
     "text": [
      "-34,-14,-10,-10,10\n"
     ]
    }
   ],
   "source": [
    "def findways(expr):\n",
    "    nums, ops = [], []\n",
    "    num = 0\n",
    "    for c in expr:\n",
    "        if '0' <= c <= '9':\n",
    "            num = num * 10 + ord(c) - 48\n",
    "        else:\n",
    "            ops.append(c)\n",
    "            nums.append(num)\n",
    "            num = 0\n",
    "    else:\n",
    "        nums.append(num)\n",
    "    \n",
    "    def oper(number1,number2,operand):\n",
    "        opers = '+-*'\n",
    "        if operand == opers[0]:\n",
    "            return number1 + number2\n",
    "        elif operand == opers[1]:\n",
    "            return number1 - number2\n",
    "        elif operand == opers[2]:\n",
    "            return number1 * number2\n",
    "        \n",
    "    def calc(low, high):\n",
    "        if low == high:\n",
    "            return [nums[low]]\n",
    "        temp = []\n",
    "        for i in range(low,high):\n",
    "            for a in calc(low, i):\n",
    "                for b in calc(i+1,high):\n",
    "                    temp.append(oper(a,b,ops[i]))\n",
    "                    #print(i,a,b,ops[i])\n",
    "        return temp\n",
    "    \n",
    "    res = calc(0, len(nums)-1)\n",
    "    #res = list(set(res))\n",
    "    res.sort()\n",
    "    res = [str(i) for i in res]\n",
    "    return ','.join(res)\n",
    "\n",
    "print(findways('2*3-4*5'))"
   ]
  },
  {
   "cell_type": "code",
   "execution_count": null,
   "id": "09d40fa5",
   "metadata": {},
   "outputs": [],
   "source": []
  }
 ],
 "metadata": {
  "kernelspec": {
   "display_name": "Python 3",
   "language": "python",
   "name": "python3"
  },
  "language_info": {
   "codemirror_mode": {
    "name": "ipython",
    "version": 3
   },
   "file_extension": ".py",
   "mimetype": "text/x-python",
   "name": "python",
   "nbconvert_exporter": "python",
   "pygments_lexer": "ipython3",
   "version": "3.8.8"
  }
 },
 "nbformat": 4,
 "nbformat_minor": 5
}
