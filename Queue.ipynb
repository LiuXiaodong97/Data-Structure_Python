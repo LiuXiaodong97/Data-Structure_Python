{
 "cells": [
  {
   "cell_type": "code",
   "execution_count": 1,
   "id": "03681720",
   "metadata": {},
   "outputs": [],
   "source": [
    "#单向队列\n",
    "class Queue:\n",
    "    def __init__(self):\n",
    "        self.items = []\n",
    "        \n",
    "    def isEmpty(self):\n",
    "        return self.items == []\n",
    "    \n",
    "    def enqueue(self, item):\n",
    "        self.items.insert(0, item)\n",
    "        \n",
    "    def dequeue(self):\n",
    "        return self.items.pop()\n",
    "    \n",
    "    def size(self):\n",
    "        return len(self.items)"
   ]
  },
  {
   "cell_type": "code",
   "execution_count": 6,
   "id": "b46ff558",
   "metadata": {},
   "outputs": [],
   "source": [
    "#热土豆问题\n",
    "def hotPotato(namelist, num):\n",
    "    simqueue = Queue()\n",
    "    for name in namelist:\n",
    "        simqueue.enqueue(name)\n",
    "        \n",
    "    while simqueue.size() > 1:\n",
    "        for i in range(num):\n",
    "            simqueue.enqueue(simqueue.dequeue())\n",
    "            \n",
    "        simqueue.dequeue()\n",
    "        \n",
    "    return simqueue.dequeue()"
   ]
  },
  {
   "cell_type": "code",
   "execution_count": 7,
   "id": "a2abef24",
   "metadata": {},
   "outputs": [
    {
     "name": "stdout",
     "output_type": "stream",
     "text": [
      "Jane\n"
     ]
    }
   ],
   "source": [
    "print(hotPotato([\"Bill\",\"David\",\"Jane\",\"Kent\",\"Brad\",\"Susan\"],7))"
   ]
  },
  {
   "cell_type": "code",
   "execution_count": 23,
   "id": "b8eb845b",
   "metadata": {},
   "outputs": [],
   "source": [
    "import random\n",
    "\n",
    "class Printer:\n",
    "    def __init__(self, ppm):\n",
    "        self.pagerate = ppm\n",
    "        self.currentTask = None\n",
    "        self.timeRemaining = 0\n",
    "        \n",
    "    def tick(self):\n",
    "        if self.currentTask != None:\n",
    "            self.timeRemaining = self.timeRemaining - 1\n",
    "            if self.timeRemaining <= 0:\n",
    "                self.currentTask = None\n",
    "    \n",
    "    def busy(self):\n",
    "        if self.currentTask != None:\n",
    "            return True\n",
    "        else:\n",
    "            return False\n",
    "        \n",
    "    def startNext(self,newtask):\n",
    "        self.currentTask = newtask\n",
    "        self.timeRemaining = newtask.getPages()*60/self.pagerate\n",
    "        \n",
    "class Task:\n",
    "    def __init__(self,time):\n",
    "        self.timestamp = time\n",
    "        self.pages = random.randrange(1,21)\n",
    "        \n",
    "    def getStamp(self):\n",
    "        return self.timestamp\n",
    "    \n",
    "    def getPages(self):\n",
    "        return self.pages\n",
    "    \n",
    "    def waitTime(self, currenttime):\n",
    "        return currenttime - self.timestamp\n",
    "    \n",
    "def newPrintTask():\n",
    "    num = random.randrange(1,181)\n",
    "    if num == 180:\n",
    "        return True\n",
    "    else:\n",
    "        return False\n",
    "    \n",
    "def simulation(numSeconds, pagesPerMinute):\n",
    "    labprinter = Printer(pagesPerMinute)\n",
    "    printQueue = Queue()\n",
    "    waitingtimes = []\n",
    "    \n",
    "    for currentSecond in range(numSeconds):\n",
    "        if newPrintTask():\n",
    "            task = Task(currentSecond)\n",
    "            printQueue.enqueue(task)\n",
    "            \n",
    "        if (not labprinter.busy()) and (not printQueue.isEmpty()):\n",
    "            nexttask = printQueue.dequeue()\n",
    "            waitingtimes.append(nexttask.waitTime(currentSecond))\n",
    "            labprinter.startNext(nexttask)\n",
    "            \n",
    "        labprinter.tick()\n",
    "            \n",
    "    averageWait = sum(waitingtimes)/len(waitingtimes)\n",
    "    print(\"Average Wait %6.2f secs %3d tasks remaining\" %(averageWait,printQueue.size()))"
   ]
  },
  {
   "cell_type": "code",
   "execution_count": 24,
   "id": "c8075711",
   "metadata": {},
   "outputs": [
    {
     "name": "stdout",
     "output_type": "stream",
     "text": [
      "Average Wait  14.91 secs   0 tasks remaining\n",
      "Average Wait   4.17 secs   0 tasks remaining\n",
      "Average Wait  23.61 secs   1 tasks remaining\n",
      "Average Wait  23.19 secs   0 tasks remaining\n",
      "Average Wait  16.59 secs   0 tasks remaining\n",
      "Average Wait  12.59 secs   0 tasks remaining\n",
      "Average Wait   1.62 secs   0 tasks remaining\n",
      "Average Wait   3.94 secs   0 tasks remaining\n",
      "Average Wait   2.21 secs   0 tasks remaining\n",
      "Average Wait  15.25 secs   0 tasks remaining\n"
     ]
    }
   ],
   "source": [
    "for i in range(10):\n",
    "    simulation(3600,10)"
   ]
  },
  {
   "cell_type": "code",
   "execution_count": 25,
   "id": "2d00cf87",
   "metadata": {},
   "outputs": [],
   "source": [
    "#双向队列\n",
    "class Deque:\n",
    "    def __init__(self):\n",
    "        self.items = []\n",
    "        \n",
    "    def isEmpty(self):\n",
    "        return self.items == []\n",
    "    \n",
    "    def addFront(self, item):\n",
    "        self.items.append(item)\n",
    "        \n",
    "    def addRear(self, item):\n",
    "        self.items.insert(0,item)\n",
    "        \n",
    "    def removeFront(self):\n",
    "        return self.items.pop()\n",
    "    \n",
    "    def removeRear(self):\n",
    "        return self.items.pop(0)\n",
    "    \n",
    "    def size(self):\n",
    "        return len(self.items)"
   ]
  },
  {
   "cell_type": "code",
   "execution_count": 26,
   "id": "eb0868fe",
   "metadata": {},
   "outputs": [],
   "source": [
    "def palchecker(aString):\n",
    "    chardeque = Deque()\n",
    "    \n",
    "    for ch in aString:\n",
    "        chardeque.addRear(ch)\n",
    "        \n",
    "    stillEqual = True\n",
    "    \n",
    "    while chardeque.size() > 1 and stillEqual:\n",
    "        first = chardeque.removeFront()\n",
    "        last = chardeque.removeRear()\n",
    "        if first != last:\n",
    "            stillEqual = False\n",
    "            \n",
    "    return stillEqual"
   ]
  },
  {
   "cell_type": "code",
   "execution_count": 27,
   "id": "f9d87573",
   "metadata": {},
   "outputs": [
    {
     "name": "stdout",
     "output_type": "stream",
     "text": [
      "True\n"
     ]
    }
   ],
   "source": [
    "print(palchecker(\"radar\"))"
   ]
  },
  {
   "cell_type": "code",
   "execution_count": 28,
   "id": "76a4ce55",
   "metadata": {},
   "outputs": [],
   "source": [
    "#单向链表\n",
    "#节点的实现\n",
    "class Node:\n",
    "    def __init__(self,initdata):\n",
    "        self.data = initdata\n",
    "        self.next = None\n",
    "        \n",
    "    def getData(self):\n",
    "        return self.data\n",
    "    \n",
    "    def getNext(self):\n",
    "        return self.next\n",
    "    \n",
    "    def setData(self,newdata):\n",
    "        self.data = newdata\n",
    "        \n",
    "    def setNext(self,newnext):\n",
    "        self.next = newnext\n",
    "        \n",
    "#链表的实现\n",
    "class UnorderedList:\n",
    "    def __init__(self):\n",
    "        self.head = None\n",
    "        \n",
    "    def add(self,item):\n",
    "        temp = Node(item)\n",
    "        temp.setNext(self.head)\n",
    "        self.head = temp\n",
    "        \n",
    "    def size(self):\n",
    "        current = self.head\n",
    "        count = 0\n",
    "        while current != None:\n",
    "            count = count + 1\n",
    "            current = current.getNext()\n",
    "            \n",
    "        return count\n",
    "    \n",
    "    def isEmpty(self):\n",
    "        return self.head == None\n",
    "    \n",
    "    def search(self,item):\n",
    "        current = self.head\n",
    "        found = False\n",
    "        while current != None and not found:\n",
    "            if current.getData() == item:\n",
    "                found = True\n",
    "            else:\n",
    "                current = current.getNext()\n",
    "                \n",
    "        return found\n",
    "    \n",
    "    def remove(self,item):\n",
    "        current = self.head\n",
    "        previous = None\n",
    "        found = False\n",
    "        while not found:\n",
    "            if current.getData() == item:\n",
    "                found = True\n",
    "            else:\n",
    "                previous = current\n",
    "                current = current.getNext()\n",
    "        if previous == None:\n",
    "            self.head = current.getNext()\n",
    "        else:\n",
    "            previous.setNext(current.getNext())\n",
    "    "
   ]
  },
  {
   "cell_type": "code",
   "execution_count": 30,
   "id": "b2572910",
   "metadata": {},
   "outputs": [
    {
     "name": "stdout",
     "output_type": "stream",
     "text": [
      "None\n"
     ]
    }
   ],
   "source": [
    "mylist = UnorderedList()\n",
    "print(mylist.head)"
   ]
  },
  {
   "cell_type": "code",
   "execution_count": 31,
   "id": "e9a704a9",
   "metadata": {},
   "outputs": [],
   "source": [
    "mylist.add(31)\n",
    "mylist.add(77)\n",
    "mylist.add(17)\n",
    "mylist.add(93)\n",
    "mylist.add(26)\n",
    "mylist.add(54)"
   ]
  },
  {
   "cell_type": "code",
   "execution_count": 33,
   "id": "cfbb889d",
   "metadata": {},
   "outputs": [
    {
     "name": "stdout",
     "output_type": "stream",
     "text": [
      "6\n"
     ]
    }
   ],
   "source": [
    "print(mylist.size())"
   ]
  },
  {
   "cell_type": "code",
   "execution_count": 34,
   "id": "62dac36d",
   "metadata": {},
   "outputs": [
    {
     "name": "stdout",
     "output_type": "stream",
     "text": [
      "True\n"
     ]
    }
   ],
   "source": [
    "print(mylist.search(93))"
   ]
  },
  {
   "cell_type": "code",
   "execution_count": 45,
   "id": "7888658e",
   "metadata": {},
   "outputs": [],
   "source": [
    "def func1(S):\n",
    "    queS = Queue()\n",
    "    for i in S:\n",
    "        queS.enqueue(i)\n",
    "    k = 0\n",
    "    while k < len(S):\n",
    "        temp = S\n",
    "        queS.enqueue(queS.dequeue())\n",
    "        j = 0\n",
    "        newList = ''.join(queS.items)\n",
    "        if newList < temp:\n",
    "            temp = newList\n",
    "        k = k + 1 \n",
    "        \n",
    "    return temp"
   ]
  },
  {
   "cell_type": "code",
   "execution_count": 46,
   "id": "fd2d2801",
   "metadata": {},
   "outputs": [
    {
     "name": "stdout",
     "output_type": "stream",
     "text": [
      "abc\n"
     ]
    }
   ],
   "source": [
    "print(func1(\"cba\"))"
   ]
  },
  {
   "cell_type": "code",
   "execution_count": 61,
   "id": "9de29b4c",
   "metadata": {},
   "outputs": [],
   "source": [
    "def func2(mylist):\n",
    "    output = []\n",
    "    for i in mylist: \n",
    "        left = i - 10000\n",
    "        right = i\n",
    "        temp = 0\n",
    "        for j in mylist:\n",
    "            if j >= left and j <= right:\n",
    "                temp += 1\n",
    "        output.append(temp)\n",
    "     \n",
    "    print(output)"
   ]
  },
  {
   "cell_type": "code",
   "execution_count": 63,
   "id": "d1fffe62",
   "metadata": {},
   "outputs": [
    {
     "name": "stdout",
     "output_type": "stream",
     "text": [
      "[1, 3, 3, 4]\n"
     ]
    }
   ],
   "source": [
    "func2([0,10,10,1000])"
   ]
  },
  {
   "cell_type": "code",
   "execution_count": null,
   "id": "5c362ed8",
   "metadata": {},
   "outputs": [],
   "source": [
    "def func3(mylist):\n",
    "    maxNum = max(mylist)\n",
    "    n = 1\n",
    "    while maxNum >= 10**n:\n",
    "        n += 1\n",
    "    i = 0\n",
    "    while i < n:\n",
    "        bucket = { }\n",
    "        for x in range(10):\n",
    "            bucket.setdefault(x,[ ])\n",
    "        for x in mylist:\n",
    "            radix = int((x /(10**i)) % 10)\n",
    "            bucket[radix].append(x)\n",
    "        j = 0\n",
    "        for k in range(10):\n",
    "            if len(bucket[k]) != 0:\n",
    "                for y in bucket[k]:\n",
    "                    mylist[j] = y\n",
    "                    j += 1\n",
    "        i += 1\n",
    "        \n",
    "    print(mylist)"
   ]
  },
  {
   "cell_type": "code",
   "execution_count": null,
   "id": "219a738a",
   "metadata": {},
   "outputs": [],
   "source": [
    "func3([8,91,34,22,65,30,4,55,18])"
   ]
  },
  {
   "cell_type": "code",
   "execution_count": null,
   "id": "2adfcdd3",
   "metadata": {},
   "outputs": [],
   "source": []
  }
 ],
 "metadata": {
  "kernelspec": {
   "display_name": "Python 3",
   "language": "python",
   "name": "python3"
  },
  "language_info": {
   "codemirror_mode": {
    "name": "ipython",
    "version": 3
   },
   "file_extension": ".py",
   "mimetype": "text/x-python",
   "name": "python",
   "nbconvert_exporter": "python",
   "pygments_lexer": "ipython3",
   "version": "3.8.8"
  }
 },
 "nbformat": 4,
 "nbformat_minor": 5
}
