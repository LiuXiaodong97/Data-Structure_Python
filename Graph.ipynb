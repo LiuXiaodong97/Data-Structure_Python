{
 "cells": [
  {
   "cell_type": "code",
   "execution_count": 94,
   "id": "c87e79b0",
   "metadata": {},
   "outputs": [],
   "source": [
    "class Vertex:\n",
    "    def __init__(self,key,color=None):\n",
    "        self.id = key\n",
    "        self.connectedTo = {}\n",
    "        self.color = color\n",
    "    def addNeighbor(self,nbr,weight=0):\n",
    "        self.connectedTo[nbr] = weight\n",
    "    def __str__(self):\n",
    "        return str(self.id) + \"connected to\" + str([x.id for x in self.connectedTo])\n",
    "    def getConnections(self):\n",
    "        return self.connectedTo.keys()\n",
    "    def getId(self):\n",
    "        return self.id\n",
    "    def getWeight(self,nbr):\n",
    "        return self.connectedTo[nbr]\n",
    "    def setColor(self,color):\n",
    "        self.color = color\n",
    "    def getColor(self):\n",
    "        return self.color   \n",
    "    \n",
    "class Graph:\n",
    "    def __init__(self):\n",
    "        self.vertList = {}\n",
    "        self.numVertices = 0\n",
    "    def addVertex(self,key):\n",
    "        self.numVertices = self.numVertices + 1\n",
    "        newVertex = Vertex(key)\n",
    "        self.vertList[key] = newVertex\n",
    "        return newVertex\n",
    "    def getVertex(self,n):\n",
    "        if n in self.vertList:\n",
    "            return self.vertList[n]\n",
    "        else:\n",
    "            return None\n",
    "    def __contains__(self,n):\n",
    "        return n in self.vertList\n",
    "    def addEdge(self,f,t,cost=0):\n",
    "        if f not in self.vertList:\n",
    "            nv = self.addVertex(f)\n",
    "        if t not in self.vertList:\n",
    "            nv = self.addVertex(t)\n",
    "        self.vertList[f].addNeighbor(self.vertList[t],cost)\n",
    "    def getVertices(self):\n",
    "        return self.vertList.keys()\n",
    "    def __iter__(self):\n",
    "        return iter(self.vertList.values())"
   ]
  },
  {
   "cell_type": "code",
   "execution_count": 17,
   "id": "5f2cc837",
   "metadata": {},
   "outputs": [],
   "source": [
    "g = Graph()\n",
    "for i in range(6):\n",
    "    g.addVertex(i)"
   ]
  },
  {
   "cell_type": "code",
   "execution_count": 18,
   "id": "3f19b567",
   "metadata": {},
   "outputs": [
    {
     "name": "stdout",
     "output_type": "stream",
     "text": [
      "{0: <__main__.Vertex object at 0x000001F52BE4B0A0>, 1: <__main__.Vertex object at 0x000001F52BE4B730>, 2: <__main__.Vertex object at 0x000001F52BE4B7F0>, 3: <__main__.Vertex object at 0x000001F52BE4BF10>, 4: <__main__.Vertex object at 0x000001F52BE4B1F0>, 5: <__main__.Vertex object at 0x000001F52BE4BF40>}\n",
      "(0,1)\n",
      "5\n",
      "(0,5)\n",
      "2\n",
      "(1,2)\n",
      "4\n",
      "(2,3)\n",
      "9\n",
      "(3,4)\n",
      "7\n",
      "(3,5)\n",
      "3\n",
      "(4,0)\n",
      "1\n",
      "(5,4)\n",
      "8\n",
      "(5,2)\n",
      "1\n"
     ]
    }
   ],
   "source": [
    "print(g.vertList)\n",
    "g.addEdge(0,1,5)\n",
    "g.addEdge(0,5,2)\n",
    "g.addEdge(1,2,4)\n",
    "g.addEdge(2,3,9)\n",
    "g.addEdge(3,4,7)\n",
    "g.addEdge(3,5,3)\n",
    "g.addEdge(4,0,1)\n",
    "g.addEdge(5,4,8)\n",
    "g.addEdge(5,2,1)\n",
    "for v in g:\n",
    "    for w in v.getConnections():\n",
    "        print (\"(%s,%s)\" % (v.getId(),w.getId()))\n",
    "        print (v.getWeight(w))"
   ]
  },
  {
   "cell_type": "code",
   "execution_count": 20,
   "id": "f3e16168",
   "metadata": {},
   "outputs": [
    {
     "data": {
      "text/plain": [
       "<__main__.Graph at 0x1f52be5f730>"
      ]
     },
     "execution_count": 20,
     "metadata": {},
     "output_type": "execute_result"
    }
   ],
   "source": [
    "#骑士周游问题 深度优先搜索求解\n",
    "#建立合法步骤\n",
    "def genLegalMoves(x,y,bdSize):\n",
    "    newMoves = []\n",
    "    moveOffsets = [(-1,-2),(-1,2),(-2,-1),(-2,1),\\\n",
    "                  (1,-2),(1,2),(2,-1),(2,1)]\n",
    "    for i in moveOffsets:\n",
    "        newX = x + i[0]\n",
    "        newY = y + i[1]\n",
    "        if legalCoord(newX,bdSize) and legalCoord(newY,bdSize):\n",
    "            newMoves.append((newX,newY))\n",
    "    return newMoves\n",
    "def legalCoord(x,bdSize):\n",
    "    if x >= 0 and x < bdSize:\n",
    "        return True\n",
    "    else: \n",
    "        return False\n",
    "#建立图\n",
    "def knightGraph(bdSize):\n",
    "    ktGraph = Graph()\n",
    "    for row in range(bdSize):\n",
    "        for col in range(bdSize):\n",
    "            nodeId = posToNodeId(row,col,bdSize)\n",
    "            newPositions = genLegalMoves(row,col,bdSize)\n",
    "            for e in newPositions:\n",
    "                nid = posToNodeId(e[0],e[1],bdSize)\n",
    "                ktGraph.addEdge(nodeId,nid)\n",
    "    return ktGraph\n",
    "def posToNodeId(row,col,bdSize):\n",
    "    return row*bdSize + col\n",
    "#周游suanfa\n",
    "def knightTour(n,path,u,limit):\n",
    "    u.setColor('gray')\n",
    "    path.append(u)\n",
    "    if n < limit:\n",
    "        nbrList = list(u.getConnections())\n",
    "        i = 0\n",
    "        done = False\n",
    "        while i < len(nbrList) and not done:\n",
    "            if nbrList[i].getColor() == 'white':\n",
    "                done = knightTour(n+1,path,nbrList[i],limit)\n",
    "            i = i + 1\n",
    "        if not done:\n",
    "            path.pop()\n",
    "    else:\n",
    "        done = true\n",
    "    return done\n",
    "\n"
   ]
  },
  {
   "cell_type": "code",
   "execution_count": 23,
   "id": "85df6a68",
   "metadata": {},
   "outputs": [
    {
     "name": "stdout",
     "output_type": "stream",
     "text": [
      "0\n",
      "[]\n"
     ]
    }
   ],
   "source": [
    "myGraph = knightGraph(5)\n",
    "u = myGraph.getVertex(0)\n",
    "print(u.getId())\n",
    "path = []\n",
    "knightTour(0,path,u,24)\n",
    "print(path)"
   ]
  },
  {
   "cell_type": "code",
   "execution_count": 30,
   "id": "3d02998e",
   "metadata": {},
   "outputs": [
    {
     "name": "stdout",
     "output_type": "stream",
     "text": [
      "[[14]\n",
      " [77]]\n",
      "[14 77]\n",
      "[[ 28  91]\n",
      " [ 91 154]]\n"
     ]
    }
   ],
   "source": [
    "import numpy as np\n",
    "\n",
    "a = np.array([[1,2,3],[4,5,6]])\n",
    "as1 = np.sum(a**2, axis=1, keepdims=True)\n",
    "as2 = np.sum(a**2, axis=1)\n",
    "print(a.T)\n",
    "print(as1)\n",
    "print(as2)\n",
    "s3 = as1 + as2\n",
    "print(s3)\n",
    "as3 = 2.a.dot()"
   ]
  },
  {
   "cell_type": "code",
   "execution_count": 36,
   "id": "446469ff",
   "metadata": {},
   "outputs": [
    {
     "name": "stdout",
     "output_type": "stream",
     "text": [
      "[array([[1, 2, 3],\n",
      "       [4, 5, 6]]), array([[1, 2, 3],\n",
      "       [4, 5, 6]]), array([[1, 2, 3],\n",
      "       [4, 5, 6]]), array([[1, 2, 3],\n",
      "       [4, 5, 6]]), array([[1, 2, 3],\n",
      "       [4, 5, 6]])]\n"
     ]
    }
   ],
   "source": [
    "a = np.array([[1,2,3],[4,5,6],[1,2,3],[4,5,6],[1,2,3],[4,5,6],[1,2,3],[4,5,6],[1,2,3],[4,5,6]])\n",
    "a_folds = []\n",
    "a_folds = np.array_split(a,5)\n",
    "print(a_folds)\n",
    "#if idx != i for line in x"
   ]
  },
  {
   "cell_type": "code",
   "execution_count": 45,
   "id": "ab855735",
   "metadata": {},
   "outputs": [
    {
     "name": "stdout",
     "output_type": "stream",
     "text": [
      "[array([1, 2, 3]), array([4, 5, 6]), array([1, 2, 3]), array([4, 5, 6]), array([1, 2, 3]), array([4, 5, 6]), array([1, 2, 3]), array([4, 5, 6])]\n",
      "[array([1, 2, 3]), array([4, 5, 6]), array([1, 2, 3]), array([4, 5, 6]), array([1, 2, 3]), array([4, 5, 6]), array([1, 2, 3]), array([4, 5, 6])]\n",
      "[array([1, 2, 3]), array([4, 5, 6]), array([1, 2, 3]), array([4, 5, 6]), array([1, 2, 3]), array([4, 5, 6]), array([1, 2, 3]), array([4, 5, 6])]\n",
      "[array([1, 2, 3]), array([4, 5, 6]), array([1, 2, 3]), array([4, 5, 6]), array([1, 2, 3]), array([4, 5, 6]), array([1, 2, 3]), array([4, 5, 6])]\n",
      "[array([1, 2, 3]), array([4, 5, 6]), array([1, 2, 3]), array([4, 5, 6]), array([1, 2, 3]), array([4, 5, 6]), array([1, 2, 3]), array([4, 5, 6])]\n"
     ]
    }
   ],
   "source": [
    "for i in range(5):\n",
    "    val_a = [line for idx, x in enumerate(a_folds) if idx!= i for line in x] \n",
    "    print(val_a)\n"
   ]
  },
  {
   "cell_type": "code",
   "execution_count": 82,
   "id": "46604718",
   "metadata": {},
   "outputs": [
    {
     "name": "stdout",
     "output_type": "stream",
     "text": [
      "a: [[1 2 3]\n",
      " [4 5 6]\n",
      " [1 2 3]\n",
      " [4 5 6]\n",
      " [1 2 3]\n",
      " [4 5 6]\n",
      " [1 2 3]\n",
      " [4 5 6]\n",
      " [1 2 3]\n",
      " [4 5 6]]\n",
      "(3,)\n",
      "(3, 10)\n",
      "a: [[1 2 3 4 5 6 1 2 3 4]\n",
      " [5 6 1 2 3 4 5 6 1 2]\n",
      " [3 4 5 6 1 2 3 4 5 6]]\n",
      "c [[1 2 3 4]\n",
      " [4 5 6 7]\n",
      " [1 2 3 4]]\n"
     ]
    },
    {
     "name": "stderr",
     "output_type": "stream",
     "text": [
      "<ipython-input-82-5432e5483e89>:4: FutureWarning: Using a non-tuple sequence for multidimensional indexing is deprecated; use `arr[tuple(seq)]` instead of `arr[seq]`. In the future this will be interpreted as an array index, `arr[np.array(seq)]`, which will result either in an error or a different result.\n",
      "  b = a[[[0,1,2],[0,1,2]]].T\n"
     ]
    }
   ],
   "source": [
    "import numpy as np\n",
    "a = np.array([[1,2,3],[4,5,6],[1,2,3],[4,5,6],[1,2,3],[4,5,6],[1,2,3],[4,5,6],[1,2,3],[4,5,6]])\n",
    "print(\"a:\",a)\n",
    "b = a[[[0,1,2],[0,1,2]]].T\n",
    "print(b.shape)\n",
    "a = a.reshape((3,-1))\n",
    "print(a.shape)\n",
    "print(\"a:\",a)\n",
    "#c = a - b.T\n",
    "print(\"c\",c)\n",
    "#c = np.array([[1,2,3,4],[4,5,6,7],[1,2,3,4]])\n",
    "#d = c - b.T\n",
    "#print(\"c\",c)\n",
    "#print(\"d\",d)"
   ]
  },
  {
   "cell_type": "code",
   "execution_count": 68,
   "id": "15655e8f",
   "metadata": {},
   "outputs": [
    {
     "name": "stdout",
     "output_type": "stream",
     "text": [
      "[[ 0  1  2  3]\n",
      " [ 4  5  6  7]\n",
      " [ 8  9 10 11]]\n"
     ]
    }
   ],
   "source": [
    "arr = np.arange(12).reshape((3,4))\n",
    "print(arr)"
   ]
  },
  {
   "cell_type": "code",
   "execution_count": 83,
   "id": "e1642963",
   "metadata": {},
   "outputs": [
    {
     "name": "stdout",
     "output_type": "stream",
     "text": [
      "4\n",
      "[[1,3],[1,4],[2,3],[2,4],[4,3]]\n",
      "3\n"
     ]
    }
   ],
   "source": [
    "#作业一寻找法官\n",
    "def findJudge(N,trust):\n",
    "    count = [0] * (N+1)\n",
    "    for i,j in trust:\n",
    "        count[i] -= 1\n",
    "        count[j] += 1\n",
    "    for i in range(1,N+1):\n",
    "        if count[i] == N-1:\n",
    "            return i\n",
    "    return -1\n",
    "\n",
    "N = int(input())\n",
    "trust = eval(input())\n",
    "print(findJudge(N,trust))"
   ]
  },
  {
   "cell_type": "code",
   "execution_count": 85,
   "id": "470c2e6d",
   "metadata": {},
   "outputs": [
    {
     "name": "stdout",
     "output_type": "stream",
     "text": [
      "[[1,0,1],[0,0,0],[1,0,1]]\n",
      "1\n",
      "1\n",
      "1\n",
      "1\n",
      "2\n"
     ]
    }
   ],
   "source": [
    "#作业二远离大陆\n",
    "def maxDistance(grid):\n",
    "    n,m = len(grid),len(grid[0])\n",
    "    dist = [[float('inf') for _ in range(m)] for _ in range(n)]\n",
    "    visited = [[False for _ in range(m)] for _ in range(n)]\n",
    "    q = []\n",
    "    cnt = 0\n",
    "    ans = 0\n",
    "    tot = n*m\n",
    "    for i in range(n):\n",
    "        for j in range(m):\n",
    "            if grid[i][j]:\n",
    "                print(grid[i][j])\n",
    "                dist[i][j] = 0\n",
    "                visited[i][j] = True\n",
    "                q.append((i,j))\n",
    "                cnt += 1\n",
    "    if cnt == tot or cnt == 0:\n",
    "        return -1\n",
    "    while q:\n",
    "        x, y = q.pop(0)\n",
    "        for i,j in [(x+1,y),(x-1,y),(x,y+1),(x,y-1)]:\n",
    "            if 0 <= i <n and 0 <= j < m and not visited[i][j]:\n",
    "                dist[i][j] = min(dist[i][j],dist[x][y]+1)\n",
    "                ans = max(ans,dist[i][j])\n",
    "                visited[i][j] = True\n",
    "                q.append((i,j)) \n",
    "    return ans\n",
    "\n",
    "grid = eval(input())\n",
    "print(maxDistance(grid))"
   ]
  },
  {
   "cell_type": "code",
   "execution_count": 91,
   "id": "4eaeb43c",
   "metadata": {},
   "outputs": [
    {
     "name": "stdout",
     "output_type": "stream",
     "text": [
      "print(type(room_map))\n"
     ]
    },
    {
     "ename": "NameError",
     "evalue": "name 'room_map' is not defined",
     "output_type": "error",
     "traceback": [
      "\u001b[1;31m---------------------------------------------------------------------------\u001b[0m",
      "\u001b[1;31mNameError\u001b[0m                                 Traceback (most recent call last)",
      "\u001b[1;32m<ipython-input-91-bd7bafbe3da3>\u001b[0m in \u001b[0;36m<module>\u001b[1;34m\u001b[0m\n\u001b[0;32m     14\u001b[0m     \u001b[1;32mreturn\u001b[0m \u001b[0mlen\u001b[0m\u001b[1;33m(\u001b[0m\u001b[0mroom_map\u001b[0m\u001b[1;33m)\u001b[0m \u001b[1;33m==\u001b[0m \u001b[0mlen\u001b[0m\u001b[1;33m(\u001b[0m\u001b[0mrooms\u001b[0m\u001b[1;33m)\u001b[0m\u001b[1;33m\u001b[0m\u001b[1;33m\u001b[0m\u001b[0m\n\u001b[0;32m     15\u001b[0m \u001b[1;33m\u001b[0m\u001b[0m\n\u001b[1;32m---> 16\u001b[1;33m \u001b[0mrooms\u001b[0m \u001b[1;33m=\u001b[0m \u001b[0meval\u001b[0m\u001b[1;33m(\u001b[0m\u001b[0minput\u001b[0m\u001b[1;33m(\u001b[0m\u001b[1;33m)\u001b[0m\u001b[1;33m)\u001b[0m\u001b[1;33m\u001b[0m\u001b[1;33m\u001b[0m\u001b[0m\n\u001b[0m\u001b[0;32m     17\u001b[0m \u001b[0mprint\u001b[0m\u001b[1;33m(\u001b[0m\u001b[0mcanVisitAll\u001b[0m\u001b[1;33m(\u001b[0m\u001b[0mrooms\u001b[0m\u001b[1;33m)\u001b[0m\u001b[1;33m)\u001b[0m\u001b[1;33m\u001b[0m\u001b[1;33m\u001b[0m\u001b[0m\n",
      "\u001b[1;32m<string>\u001b[0m in \u001b[0;36m<module>\u001b[1;34m\u001b[0m\n",
      "\u001b[1;31mNameError\u001b[0m: name 'room_map' is not defined"
     ]
    }
   ],
   "source": [
    "#作业三 钥匙与房间 深度优先求解\n",
    "def canVisitAll(rooms):\n",
    "    room_map = {0}\n",
    "    def enterroom(keys):\n",
    "        for key in keys:\n",
    "            if key not in room_map:\n",
    "                room_map.add(key)\n",
    "                enterroom(rooms[key])\n",
    "            else:\n",
    "                pass\n",
    "        return\n",
    "    enterroom(rooms[0])\n",
    "\n",
    "    return len(room_map) == len(rooms)\n",
    "\n",
    "rooms = eval(input())\n",
    "print(canVisitAll(rooms))\n"
   ]
  },
  {
   "cell_type": "code",
   "execution_count": 92,
   "id": "c8c7af66",
   "metadata": {},
   "outputs": [
    {
     "name": "stdout",
     "output_type": "stream",
     "text": [
      "[[1],[2],[3],[]]\n",
      "True\n"
     ]
    }
   ],
   "source": [
    "#作业三 钥匙与房间 广度优先求解\n",
    "def canVisitAll(rooms):\n",
    "    visited, queue = {0},[0]\n",
    "    while queue:\n",
    "        room_index = queue.pop()\n",
    "        for key in rooms[room_index]:\n",
    "            if key not in visited:\n",
    "                visited.add(key)\n",
    "                queue.insert(0,key)\n",
    "    return len(visited) == len(rooms)\n",
    "\n",
    "rooms = eval(input())\n",
    "print(canVisitAll(rooms))"
   ]
  },
  {
   "cell_type": "code",
   "execution_count": 95,
   "id": "3dfdfe77",
   "metadata": {},
   "outputs": [],
   "source": [
    "#通用的深度优先算法\n",
    "class DFSGraph(Graph):\n",
    "    def __init__(self):\n",
    "        super().__init__()\n",
    "        self.time = 0\n",
    "        \n",
    "    def dfs(self):\n",
    "        for aVertex in self:\n",
    "            aVertex.setColor('white')\n",
    "            aVertex.setPred(-1)\n",
    "        for aVertex in self:\n",
    "            if aVertex.getColor() == 'white':\n",
    "                self.dfsvisit(aVertex)\n",
    "    \n",
    "    def dfsvisit(self,startVertex):\n",
    "        startVertex.setColor('gray')\n",
    "        self.time += 1\n",
    "        startVertex.setDiscovery(self.time)\n",
    "        for nextVertex in startVertex.getConnections():\n",
    "            if nextVertex.getColor() == 'white':\n",
    "                nextVertex.setPred(startVertex)\n",
    "                self.dfsvisit(nextVertex)\n",
    "        startVertex.setColor('black')\n",
    "        startVertex.setFinish(self.time)"
   ]
  },
  {
   "cell_type": "code",
   "execution_count": 101,
   "id": "5cfea8b6",
   "metadata": {},
   "outputs": [
    {
     "name": "stdout",
     "output_type": "stream",
     "text": [
      "(120, 3)\n"
     ]
    }
   ],
   "source": [
    "num_inputs = 2\n",
    "input_shape = (4, 5, 6)\n",
    "output_dim = 3\n",
    "\n",
    "input_size = num_inputs * np.prod(input_shape)\n",
    "weight_size = output_dim * np.prod(input_shape)\n",
    "\n",
    "x = np.linspace(-0.1, 0.5, num=input_size).reshape(num_inputs, *input_shape)\n",
    "w = np.linspace(-0.2, 0.3, num=weight_size).reshape(np.prod(input_shape), output_dim)\n",
    "b = np.linspace(-0.3, 0.1, num=output_dim)\n",
    "\n",
    "#print(x)\n",
    "print(w.shape)\n",
    "#print(b)"
   ]
  },
  {
   "cell_type": "code",
   "execution_count": 104,
   "id": "a6c8741b",
   "metadata": {},
   "outputs": [
    {
     "name": "stdout",
     "output_type": "stream",
     "text": [
      "(2, 3)\n",
      "(10, 2, 3)\n"
     ]
    }
   ],
   "source": [
    "np.random.seed(231)\n",
    "x = np.random.randn(10, 2, 3)\n",
    "w = np.random.randn(6, 5)\n",
    "b = np.random.randn(5)\n",
    "dout = np.random.randn(10, 5)\n",
    "num_inputs = x.shape[0]\n",
    "input_shape = x.shape[1:]\n",
    "print(input_shape)\n",
    "x = x.reshape(num_inputs,np.prod(input_shape)) #(N, d1, ..., d_k)->(N, D)\n",
    "dx = dout.dot(w.T) #(N, M)*(M,D)\n",
    "dx = dx.reshape(num_inputs,*input_shape)\n",
    "print(dx.shape)"
   ]
  },
  {
   "cell_type": "code",
   "execution_count": 109,
   "id": "03230a7d",
   "metadata": {},
   "outputs": [
    {
     "name": "stdout",
     "output_type": "stream",
     "text": [
      "123\n"
     ]
    }
   ],
   "source": [
    "a = {'dog':123,'cat':321}\n",
    "print(a['dog'])"
   ]
  },
  {
   "cell_type": "code",
   "execution_count": 5,
   "id": "5de9cbbb",
   "metadata": {},
   "outputs": [
    {
     "name": "stdout",
     "output_type": "stream",
     "text": [
      "{'W1': 0, 'b1': 0, 'W2': 1, 'b2': 0}\n"
     ]
    }
   ],
   "source": [
    "params = {}\n",
    "num_hiddenlayers = 2\n",
    "for i in range(num_hiddenlayers):\n",
    "    params['W%d' %(i+1)] = i\n",
    "    params['b%d' %(i+1)] = 0\n",
    "print(params)    "
   ]
  },
  {
   "cell_type": "code",
   "execution_count": 3,
   "id": "a7c1b167",
   "metadata": {},
   "outputs": [
    {
     "name": "stdout",
     "output_type": "stream",
     "text": [
      "W 2\n"
     ]
    }
   ],
   "source": [
    "print('W%d' %(6/3))"
   ]
  },
  {
   "cell_type": "code",
   "execution_count": 7,
   "id": "4763a526",
   "metadata": {},
   "outputs": [
    {
     "name": "stdout",
     "output_type": "stream",
     "text": [
      "(10, 2, 3)\n"
     ]
    }
   ],
   "source": [
    "import numpy as np\n",
    "np.random.seed(231)\n",
    "x = np.random.randn(10, 2, 3)\n",
    "w = np.random.randn(6, 5)\n",
    "out = np.reshape(x,(x.shape[0],-1)).dot(w)\n",
    "print(x.shape)"
   ]
  },
  {
   "cell_type": "code",
   "execution_count": 11,
   "id": "1ee35c3b",
   "metadata": {},
   "outputs": [
    {
     "name": "stdout",
     "output_type": "stream",
     "text": [
      "[[0.33922618 0.22428096 0.37612373]\n",
      " [0.95794971 0.3448939  0.54539387]\n",
      " [0.28226922 0.4131902  0.5687149 ]\n",
      " [0.32953763 0.43846751 0.64789432]]\n",
      "[[2. 0. 0.]\n",
      " [0. 0. 0.]\n",
      " [0. 0. 2.]\n",
      " [2. 2. 2.]]\n",
      "[[0.67845235 0.         0.        ]\n",
      " [0.         0.         0.        ]\n",
      " [0.         0.         1.1374298 ]\n",
      " [0.65907527 0.87693502 1.29578864]]\n"
     ]
    }
   ],
   "source": [
    "import numpy as np\n",
    "H1 = np.random.rand(4,3)\n",
    "U1 = (np.random.rand(4,3) < 0.5)/0.5\n",
    "print(H1)\n",
    "print(U1)\n",
    "H1 *= U1\n",
    "print(H1)"
   ]
  },
  {
   "cell_type": "code",
   "execution_count": 12,
   "id": "f980b959",
   "metadata": {},
   "outputs": [
    {
     "name": "stdout",
     "output_type": "stream",
     "text": [
      "[[0.97261325 0.66816873 0.00990244]\n",
      " [0.84867403 0.47975337 0.3732424 ]\n",
      " [0.20889482 0.80759984 0.2979658 ]\n",
      " [0.67294893 0.99021491 0.10040144]]\n",
      "[[ 0.         -0.30444452 -0.96271081]\n",
      " [ 0.         -0.36892067 -0.47543163]\n",
      " [-0.59870502  0.         -0.50963404]\n",
      " [-0.31726598  0.         -0.88981347]]\n"
     ]
    }
   ],
   "source": [
    "H1 = np.random.rand(4,3)\n",
    "print(H1)\n",
    "H1 -= np.max(H1,axis=1,keepdims=True)\n",
    "print(H1)"
   ]
  },
  {
   "cell_type": "code",
   "execution_count": 13,
   "id": "2c768df4",
   "metadata": {},
   "outputs": [
    {
     "ename": "IndentationError",
     "evalue": "unexpected indent (<ipython-input-13-87db04bafe58>, line 2)",
     "output_type": "error",
     "traceback": [
      "\u001b[1;36m  File \u001b[1;32m\"<ipython-input-13-87db04bafe58>\"\u001b[1;36m, line \u001b[1;32m2\u001b[0m\n\u001b[1;33m    get_ipython().system('{sys.executable} --version')\u001b[0m\n\u001b[1;37m    ^\u001b[0m\n\u001b[1;31mIndentationError\u001b[0m\u001b[1;31m:\u001b[0m unexpected indent\n"
     ]
    }
   ],
   "source": [
    "import sys\n",
    "        !{sys.executable} --version\n",
    "    "
   ]
  },
  {
   "cell_type": "code",
   "execution_count": null,
   "id": "f56d207b",
   "metadata": {},
   "outputs": [],
   "source": []
  }
 ],
 "metadata": {
  "kernelspec": {
   "display_name": "Python 3",
   "language": "python",
   "name": "python3"
  },
  "language_info": {
   "codemirror_mode": {
    "name": "ipython",
    "version": 3
   },
   "file_extension": ".py",
   "mimetype": "text/x-python",
   "name": "python",
   "nbconvert_exporter": "python",
   "pygments_lexer": "ipython3",
   "version": "3.8.8"
  }
 },
 "nbformat": 4,
 "nbformat_minor": 5
}
